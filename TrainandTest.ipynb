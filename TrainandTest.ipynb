{
  "cells": [
    {
      "cell_type": "markdown",
      "source": [
        "Clone Yolov5"
      ],
      "metadata": {
        "id": "zVGkkj09GUdL"
      }
    },
    {
      "cell_type": "code",
      "execution_count": null,
      "metadata": {
        "id": "zh_GGTiIUIAi"
      },
      "outputs": [],
      "source": [
        "!git clone https://github.com/ultralytics/yolov5  # clone\n",
        "%cd yolov5\n",
        "%pip install -qr requirements.txt comet_ml  # install\n",
        "\n",
        "import torch\n",
        "import utils\n",
        "display = utils.notebook_init()  # checks"
      ]
    },
    {
      "cell_type": "markdown",
      "source": [
        "Connect to google drive"
      ],
      "metadata": {
        "id": "YAZJQzzgGDN7"
      }
    },
    {
      "cell_type": "code",
      "source": [
        "from google.colab import drive\n",
        "drive.mount('/content/drive')"
      ],
      "metadata": {
        "id": "tHq_zGmHVd0O"
      },
      "execution_count": null,
      "outputs": []
    },
    {
      "cell_type": "markdown",
      "source": [
        "Extract Dataset zip file"
      ],
      "metadata": {
        "id": "Orvx_FD0GInU"
      }
    },
    {
      "cell_type": "code",
      "source": [
        "import zipfile\n",
        "\n",
        "# Specify the path of the zip file\n",
        "zip_path = '/content/test29val14.zip'\n",
        "\n",
        "# Specify the destination folder where you want to extract the files\n",
        "destination_folder = '/content/datasetM2'\n",
        "\n",
        "# Extract the zip file using the !unzip command\n",
        "!unzip \"{zip_path}\" -d \"{destination_folder}\""
      ],
      "metadata": {
        "id": "VYO9KUIJVnQQ"
      },
      "execution_count": null,
      "outputs": []
    },
    {
      "cell_type": "markdown",
      "source": [
        "Train"
      ],
      "metadata": {
        "id": "0v3p5eCoGLkD"
      }
    },
    {
      "cell_type": "code",
      "source": [
        "# Train YOLOv5s on COCO128 for 3 epochs\n",
        "!python train.py --img 640 --batch 16 --epochs 10 --data cocoSm.yaml --weights yolov5s.pt --cache"
      ],
      "metadata": {
        "id": "VxrC65YMWM_1"
      },
      "execution_count": null,
      "outputs": []
    },
    {
      "cell_type": "markdown",
      "source": [
        "Download weight"
      ],
      "metadata": {
        "id": "dolWjfc1GOCz"
      }
    },
    {
      "cell_type": "code",
      "source": [
        "import shutil\n",
        "import os\n",
        "from google.colab import files\n",
        "\n",
        "# Provide the path to your weights directory\n",
        "weights_directory = '/content/yolov5/runs/train/exp4' #select the lastest exp\n",
        "\n",
        "# Create a zip file of the weights directory\n",
        "zip_path = '/content/weights.zip'\n",
        "shutil.make_archive('/content/weights', 'zip', weights_directory)\n",
        "\n",
        "# Download the zip file\n",
        "files.download(zip_path)\n"
      ],
      "metadata": {
        "id": "jSY_noH1iGfA"
      },
      "execution_count": null,
      "outputs": []
    },
    {
      "cell_type": "markdown",
      "source": [
        "Unzip test file"
      ],
      "metadata": {
        "id": "m3WDyYpl7LBL"
      }
    },
    {
      "cell_type": "code",
      "source": [
        "import zipfile\n",
        "\n",
        "# Specify the path of the zip file\n",
        "zip_path = '/content/test.zip'\n",
        "\n",
        "# Specify the destination folder where you want to extract the files\n",
        "destination_folder = '/content/test/'\n",
        "\n",
        "# Extract the zip file using the !unzip command\n",
        "!unzip \"{zip_path}\" -d \"{destination_folder}\""
      ],
      "metadata": {
        "id": "qBG_c7fw7J50"
      },
      "execution_count": null,
      "outputs": []
    },
    {
      "cell_type": "markdown",
      "source": [
        "Test"
      ],
      "metadata": {
        "id": "Ys-hUBv5GR5r"
      }
    },
    {
      "cell_type": "code",
      "source": [
        "!python detect.py --weights /content/yolov5/best.pt --img 640 --conf 0.1 --source /content/test/test/images --iou-thres 0.5 --save-txt"
      ],
      "metadata": {
        "id": "34brH6zQ5CAH"
      },
      "execution_count": null,
      "outputs": []
    }
  ],
  "metadata": {
    "colab": {
      "provenance": [],
      "gpuType": "T4"
    },
    "kernelspec": {
      "display_name": "Python 3",
      "name": "python3"
    },
    "language_info": {
      "name": "python"
    },
    "accelerator": "GPU"
  },
  "nbformat": 4,
  "nbformat_minor": 0
}