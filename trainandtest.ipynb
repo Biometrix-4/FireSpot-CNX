{
  "cells": [
    {
      "cell_type": "code",
      "execution_count": null,
      "metadata": {
        "colab": {
          "base_uri": "https://localhost:8080/"
        },
        "id": "BaxDqZUq2CBf",
        "outputId": "30731567-db3d-4a05-8c40-b917e1bf55c5"
      },
      "outputs": [],
      "source": [
        "!git clone https://github.com/ultralytics/yolov5  # clone\n",
        "%cd yolov5\n",
        "%pip install -qr requirements.txt comet_ml  # install\n",
        "\n",
        "import torch\n",
        "import utils\n",
        "display = utils.notebook_init()  # checks"
      ]
    },
    {
      "cell_type": "code",
      "execution_count": null,
      "metadata": {
        "colab": {
          "base_uri": "https://localhost:8080/"
        },
        "id": "mli6kurs2r20",
        "outputId": "77bcf576-7d16-4253-99a2-58d1a601f92c"
      },
      "outputs": [],
      "source": [
        "from google.colab import drive\n",
        "drive.mount('/content/drive')"
      ]
    },
    {
      "cell_type": "code",
      "execution_count": null,
      "metadata": {
        "colab": {
          "base_uri": "https://localhost:8080/"
        },
        "id": "3BUTKawC5UXT",
        "outputId": "bef1e6c2-07aa-4bfd-c80d-1ff1731a1ef4"
      },
      "outputs": [],
      "source": [
        "import zipfile\n",
        "\n",
        "# Specify the path of the zip file\n",
        "zip_path = '/content/drive/MyDrive/M1.zip'\n",
        "\n",
        "# Specify the destination folder where you want to extract the files\n",
        "destination_folder = '/content/datasetM1'\n",
        "\n",
        "# Extract the zip file using the !unzip command\n",
        "!unzip \"{zip_path}\" -d \"{destination_folder}\""
      ]
    },
    {
      "cell_type": "code",
      "execution_count": null,
      "metadata": {
        "colab": {
          "base_uri": "https://localhost:8080/"
        },
        "id": "4_mYGH2d5mwB",
        "outputId": "0176f7c6-22ea-4e6f-a115-5225d6af6569"
      },
      "outputs": [],
      "source": [
        "# Train YOLOv5s on COCO128 for 3 epochs\n",
        "!python train.py --img 640 --batch 16 --epochs 40 --data cocoSm1.yaml --weights yolov5s.pt --cache"
      ]
    },
    {
      "cell_type": "code",
      "execution_count": null,
      "metadata": {
        "colab": {
          "base_uri": "https://localhost:8080/",
          "height": 17
        },
        "id": "zrcK0TRhO1IK",
        "outputId": "d34a127c-7920-485c-d13b-9798f453fdc5"
      },
      "outputs": [],
      "source": [
        "import shutil\n",
        "import os\n",
        "from google.colab import files\n",
        "\n",
        "# Provide the path to your weights directory\n",
        "weights_directory = '/content/yolov5/runs/train/exp'\n",
        "\n",
        "# Create a zip file of the weights directory\n",
        "zip_path = '/content/weights.zip'\n",
        "shutil.make_archive('/content/weights', 'zip', weights_directory)\n",
        "\n",
        "# Download the zip file\n",
        "files.download(zip_path)\n"
      ]
    },
    {
      "cell_type": "code",
      "execution_count": null,
      "metadata": {
        "colab": {
          "base_uri": "https://localhost:8080/"
        },
        "id": "yXDFdJeuPxRr",
        "outputId": "b560b74a-7723-4950-aa24-50e974c3751b"
      },
      "outputs": [],
      "source": [
        "!python detect.py --weights /content/yolov5/runs/train/exp/weights/best.pt --img-size 640 --conf 0.4 --source /content/datasetM1/M1/test\n"
      ]
    },
    {
      "cell_type": "code",
      "execution_count": null,
      "metadata": {
        "colab": {
          "base_uri": "https://localhost:8080/",
          "height": 34
        },
        "id": "zYA4_OvBRtXc",
        "outputId": "44b3c090-869a-421c-fb4b-24a57d164ed8"
      },
      "outputs": [],
      "source": [
        "import shutil\n",
        "import os\n",
        "from google.colab import files\n",
        "\n",
        "# Provide the path to your weights directory\n",
        "weights_directory = '/content/yolov5/runs/detect/exp'\n",
        "\n",
        "# Create a zip file of the weights directory\n",
        "zip_path = '/content/Detect.zip'\n",
        "shutil.make_archive('/content/Detect', 'zip', weights_directory)\n",
        "\n",
        "# Download the zip file\n",
        "files.download(zip_path)\n"
      ]
    }
  ],
  "metadata": {
    "accelerator": "GPU",
    "colab": {
      "gpuType": "T4",
      "provenance": []
    },
    "kernelspec": {
      "display_name": "Python 3",
      "name": "python3"
    },
    "language_info": {
      "codemirror_mode": {
        "name": "ipython",
        "version": 3
      },
      "file_extension": ".py",
      "mimetype": "text/x-python",
      "name": "python",
      "nbconvert_exporter": "python",
      "pygments_lexer": "ipython3",
      "version": "3.10.10"
    }
  },
  "nbformat": 4,
  "nbformat_minor": 0
}
